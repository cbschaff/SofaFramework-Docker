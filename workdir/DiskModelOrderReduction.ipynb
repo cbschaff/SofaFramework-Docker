{
 "cells": [
  {
   "cell_type": "markdown",
   "metadata": {},
   "source": [
    "# Model Order Reduction Example\n",
    "\n",
    "\n",
    "The Jupyter Notebook is a web-based interactive computing system that enables users to author documents that include live code, narrative text, LaTeX equations, HTML, images and video.\n",
    "\n",
    "**How to use it :**\n",
    "\n",
    "- to navigate between cell use your keyboard ***up*** or ***down***\n",
    "\n",
    "- to execute a cell press ***crtl*+*enter***\n",
    "\n",
    "- to edit a cell just press ***enter***\n",
    "\n",
    "- to restart and clear all the output of the executed cells go in ***kernel -> Restart & Clear Output***\n",
    "\n",
    "*little test :*\n",
    "\n",
    "when your are on this cell (indicated by a blue cursor) if you press *enter* you will see the *raw* document, you can add text ect... then press *ctrl*+*enter* and you will see your modification will be take into account. \n",
    "\n",
    "for more information you can go [here](http://nbviewer.jupyter.org/github/ipython/ipython/blob/3.x/examples/Notebook/Index.ipynb)\n",
    "\n",
    "## Introduction <a name=\"introduction\"></a>\n",
    "***\n",
    "\n",
    "In this python notebook exemple we will see with 2 real examples how to reduce a model from one of your sofa scene thanks to the **Model Order Reduction** plugin done by the INRIA research team **[Defrost](https://team.inria.fr/defrost/)**.\n",
    "\n",
    "The two examples will be :\n",
    "\n",
    "- **[A cable-driven silicone robot](https://modelorderreduction.readthedocs.io/en/latest/usage/examples/Diamond/diamond.html)** (*paper link : [C. Duriez, ICRA, 2013](https://hal.archives-ouvertes.fr/hal-00823766/document)*).\n",
    "\n",
    "- **[A pneumatic Soft Robot](https://modelorderreduction.readthedocs.io/en/latest/usage/examples/Starfish/starfish.html)** (*paper link : Multigait soft Robot [R.F. Shepherd et al, PNAS, 2011](http://www.pnas.org/content/108/51/20400)*).\n",
    "\n",
    "To perform the reduction, a certain number of parameters have to be set. In the following exampl we will present them and explain their purpose. Each example has its own set of parameter values and you will be able to switch easily between each example. "
   ]
  },
  {
   "cell_type": "markdown",
   "metadata": {},
   "source": [
    "## User Parameters <a name=\"User Paramters\"></a> \n",
    "***\n",
    "\n",
    "Before defining the reduction parameters, here are some \"import\" commands that will be useful for this python notebook:"
   ]
  },
  {
   "cell_type": "code",
   "execution_count": 1,
   "metadata": {
    "code_folding": []
   },
   "outputs": [
    {
     "ename": "ImportError",
     "evalue": "\n\nIMPORTANT: PLEASE READ THIS FOR ADVICE ON HOW TO SOLVE THIS ISSUE!\n\nImporting the numpy c-extensions failed.\n- Try uninstalling and reinstalling numpy.\n- If you have already done that, then:\n  1. Check that you expected to use Python2.7 from \"/usr/bin/python2\",\n     and that you have no directories in your PATH or PYTHONPATH that can\n     interfere with the Python and numpy version \"1.17.5\" you're trying to use.\n  2. If (1) looks fine, you can open a new issue at\n     https://github.com/numpy/numpy/issues.  Please include details on:\n     - how you installed Python\n     - how you installed numpy\n     - your operating system\n     - whether or not you have multiple versions of Python installed\n     - if you built from source, your compiler versions and ideally a build log\n\n- If you're working with a numpy git repository, try `git clean -xdf`\n  (removes all files not under version control) and rebuild numpy.\n\nNote: this error has many possible causes, so please don't comment on\nan existing issue about this - open a new one instead.\n\nOriginal error was: No module named _multiarray_umath\n",
     "output_type": "error",
     "traceback": [
      "\u001b[0;31m---------------------------------------------------------------------------\u001b[0m",
      "\u001b[0;31mImportError\u001b[0m                               Traceback (most recent call last)",
      "\u001b[0;32m<ipython-input-1-7c49b1dfefe8>\u001b[0m in \u001b[0;36m<module>\u001b[0;34m()\u001b[0m\n\u001b[1;32m      7\u001b[0m \u001b[0;31m# MOR IMPORT\u001b[0m\u001b[0;34m\u001b[0m\u001b[0;34m\u001b[0m\u001b[0m\n\u001b[1;32m      8\u001b[0m \u001b[0;32mfrom\u001b[0m \u001b[0mmor\u001b[0m\u001b[0;34m.\u001b[0m\u001b[0mgui\u001b[0m \u001b[0;32mimport\u001b[0m \u001b[0mutility\u001b[0m\u001b[0;34m\u001b[0m\u001b[0m\n\u001b[0;32m----> 9\u001b[0;31m \u001b[0;32mfrom\u001b[0m \u001b[0mmor\u001b[0m\u001b[0;34m.\u001b[0m\u001b[0mreduction\u001b[0m \u001b[0;32mimport\u001b[0m \u001b[0mReduceModel\u001b[0m\u001b[0;34m\u001b[0m\u001b[0m\n\u001b[0m\u001b[1;32m     10\u001b[0m \u001b[0;32mfrom\u001b[0m \u001b[0mmor\u001b[0m\u001b[0;34m.\u001b[0m\u001b[0mreduction\u001b[0m\u001b[0;34m.\u001b[0m\u001b[0mcontainer\u001b[0m \u001b[0;32mimport\u001b[0m \u001b[0mObjToAnimate\u001b[0m\u001b[0;34m\u001b[0m\u001b[0m\n",
      "\u001b[0;32m/builds/plugins/ModelOrderReduction/python/mor/reduction/__init__.py\u001b[0m in \u001b[0;36m<module>\u001b[0;34m()\u001b[0m\n\u001b[1;32m     14\u001b[0m \"\"\"\n\u001b[1;32m     15\u001b[0m \u001b[0m__all__\u001b[0m\u001b[0;34m=\u001b[0m\u001b[0;34m[\u001b[0m\u001b[0;34m\"reduceModel\"\u001b[0m\u001b[0;34m,\u001b[0m\u001b[0;34m\"script\"\u001b[0m\u001b[0;34m,\u001b[0m\u001b[0;34m\"container\"\u001b[0m\u001b[0;34m]\u001b[0m\u001b[0;34m\u001b[0m\u001b[0m\n\u001b[0;32m---> 16\u001b[0;31m \u001b[0;32mfrom\u001b[0m \u001b[0mreduceModel\u001b[0m \u001b[0;32mimport\u001b[0m \u001b[0mReduceModel\u001b[0m\u001b[0;34m\u001b[0m\u001b[0m\n\u001b[0m",
      "\u001b[0;32m/builds/plugins/ModelOrderReduction/python/mor/reduction/reduceModel.py\u001b[0m in \u001b[0;36m<module>\u001b[0;34m()\u001b[0m\n\u001b[1;32m     45\u001b[0m \u001b[0msys\u001b[0m\u001b[0;34m.\u001b[0m\u001b[0mpath\u001b[0m\u001b[0;34m.\u001b[0m\u001b[0minsert\u001b[0m\u001b[0;34m(\u001b[0m\u001b[0;36m0\u001b[0m\u001b[0;34m,\u001b[0m\u001b[0mpath\u001b[0m\u001b[0;34m+\u001b[0m\u001b[0;34m'/../../'\u001b[0m\u001b[0;34m)\u001b[0m\u001b[0;34m\u001b[0m\u001b[0m\n\u001b[1;32m     46\u001b[0m \u001b[0;34m\u001b[0m\u001b[0m\n\u001b[0;32m---> 47\u001b[0;31m \u001b[0;32mfrom\u001b[0m \u001b[0mmor\u001b[0m\u001b[0;34m.\u001b[0m\u001b[0mutility\u001b[0m \u001b[0;32mimport\u001b[0m \u001b[0mutility\u001b[0m \u001b[0;32mas\u001b[0m \u001b[0mu\u001b[0m\u001b[0;34m\u001b[0m\u001b[0m\n\u001b[0m\u001b[1;32m     48\u001b[0m \u001b[0;32mfrom\u001b[0m \u001b[0mmor\u001b[0m\u001b[0;34m.\u001b[0m\u001b[0mreduction\u001b[0m\u001b[0;34m.\u001b[0m\u001b[0mcontainer\u001b[0m \u001b[0;32mimport\u001b[0m \u001b[0mObjToAnimate\u001b[0m\u001b[0;34m\u001b[0m\u001b[0m\n\u001b[1;32m     49\u001b[0m \u001b[0;32mfrom\u001b[0m \u001b[0mmor\u001b[0m\u001b[0;34m.\u001b[0m\u001b[0mreduction\u001b[0m\u001b[0;34m.\u001b[0m\u001b[0mcontainer\u001b[0m \u001b[0;32mimport\u001b[0m \u001b[0mReductionAnimations\u001b[0m\u001b[0;34m\u001b[0m\u001b[0m\n",
      "\u001b[0;32m/builds/plugins/ModelOrderReduction/python/mor/utility/utility.py\u001b[0m in \u001b[0;36m<module>\u001b[0;34m()\u001b[0m\n\u001b[1;32m     24\u001b[0m \u001b[0;32mimport\u001b[0m \u001b[0mtime\u001b[0m\u001b[0;34m\u001b[0m\u001b[0m\n\u001b[1;32m     25\u001b[0m \u001b[0;32mimport\u001b[0m \u001b[0mmath\u001b[0m\u001b[0;34m\u001b[0m\u001b[0m\n\u001b[0;32m---> 26\u001b[0;31m \u001b[0;32mimport\u001b[0m \u001b[0mnumpy\u001b[0m \u001b[0;32mas\u001b[0m \u001b[0mnp\u001b[0m\u001b[0;34m\u001b[0m\u001b[0m\n\u001b[0m\u001b[1;32m     27\u001b[0m \u001b[0;32mimport\u001b[0m \u001b[0mshutil\u001b[0m\u001b[0;34m\u001b[0m\u001b[0m\n\u001b[1;32m     28\u001b[0m \u001b[0;32mimport\u001b[0m \u001b[0merrno\u001b[0m\u001b[0;34m\u001b[0m\u001b[0m\n",
      "\u001b[0;32m/builds/blender-git/lib/linux_centos7_x86_64/python/lib/python3.7/site-packages/numpy/__init__.py\u001b[0m in \u001b[0;36m<module>\u001b[0;34m()\u001b[0m\n\u001b[1;32m    140\u001b[0m     \u001b[0;32mfrom\u001b[0m \u001b[0;34m.\u001b[0m \u001b[0;32mimport\u001b[0m \u001b[0m_distributor_init\u001b[0m\u001b[0;34m\u001b[0m\u001b[0m\n\u001b[1;32m    141\u001b[0m \u001b[0;34m\u001b[0m\u001b[0m\n\u001b[0;32m--> 142\u001b[0;31m     \u001b[0;32mfrom\u001b[0m \u001b[0;34m.\u001b[0m \u001b[0;32mimport\u001b[0m \u001b[0mcore\u001b[0m\u001b[0;34m\u001b[0m\u001b[0m\n\u001b[0m\u001b[1;32m    143\u001b[0m     \u001b[0;32mfrom\u001b[0m \u001b[0;34m.\u001b[0m\u001b[0mcore\u001b[0m \u001b[0;32mimport\u001b[0m \u001b[0;34m*\u001b[0m\u001b[0;34m\u001b[0m\u001b[0m\n\u001b[1;32m    144\u001b[0m     \u001b[0;32mfrom\u001b[0m \u001b[0;34m.\u001b[0m \u001b[0;32mimport\u001b[0m \u001b[0mcompat\u001b[0m\u001b[0;34m\u001b[0m\u001b[0m\n",
      "\u001b[0;32m/builds/blender-git/lib/linux_centos7_x86_64/python/lib/python3.7/site-packages/numpy/core/__init__.py\u001b[0m in \u001b[0;36m<module>\u001b[0;34m()\u001b[0m\n\u001b[1;32m     45\u001b[0m \"\"\" % (sys.version_info[0], sys.version_info[1], sys.executable,\n\u001b[1;32m     46\u001b[0m         __version__, exc)\n\u001b[0;32m---> 47\u001b[0;31m     \u001b[0;32mraise\u001b[0m \u001b[0mImportError\u001b[0m\u001b[0;34m(\u001b[0m\u001b[0mmsg\u001b[0m\u001b[0;34m)\u001b[0m\u001b[0;34m\u001b[0m\u001b[0m\n\u001b[0m\u001b[1;32m     48\u001b[0m \u001b[0;32mfinally\u001b[0m\u001b[0;34m:\u001b[0m\u001b[0;34m\u001b[0m\u001b[0m\n\u001b[1;32m     49\u001b[0m     \u001b[0;32mfor\u001b[0m \u001b[0menvkey\u001b[0m \u001b[0;32min\u001b[0m \u001b[0menv_added\u001b[0m\u001b[0;34m:\u001b[0m\u001b[0;34m\u001b[0m\u001b[0m\n",
      "\u001b[0;31mImportError\u001b[0m: \n\nIMPORTANT: PLEASE READ THIS FOR ADVICE ON HOW TO SOLVE THIS ISSUE!\n\nImporting the numpy c-extensions failed.\n- Try uninstalling and reinstalling numpy.\n- If you have already done that, then:\n  1. Check that you expected to use Python2.7 from \"/usr/bin/python2\",\n     and that you have no directories in your PATH or PYTHONPATH that can\n     interfere with the Python and numpy version \"1.17.5\" you're trying to use.\n  2. If (1) looks fine, you can open a new issue at\n     https://github.com/numpy/numpy/issues.  Please include details on:\n     - how you installed Python\n     - how you installed numpy\n     - your operating system\n     - whether or not you have multiple versions of Python installed\n     - if you built from source, your compiler versions and ideally a build log\n\n- If you're working with a numpy git repository, try `git clean -xdf`\n  (removes all files not under version control) and rebuild numpy.\n\nNote: this error has many possible causes, so please don't comment on\nan existing issue about this - open a new one instead.\n\nOriginal error was: No module named _multiarray_umath\n"
     ]
    }
   ],
   "source": [
    "# Import\n",
    "import os\n",
    "import sys\n",
    "\n",
    "sys.path.append(os.getcwd()+'/../python')\n",
    "\n",
    "# MOR IMPORT\n",
    "from mor.gui import utility\n",
    "from mor.reduction import ReduceModel\n",
    "from mor.reduction.container import ObjToAnimate"
   ]
  },
  {
   "cell_type": "markdown",
   "metadata": {},
   "source": [
    "### 1.  Paths to the SOFA scene, mesh and outputs: <a name=\"Important Path\"></a> \n",
    " - The scene you want to work on\n",
    " - The folder containing its mesh\n",
    " - The folder where you want the results to be put in"
   ]
  },
  {
   "cell_type": "code",
   "execution_count": null,
   "metadata": {
    "code_folding": []
   },
   "outputs": [],
   "source": [
    "# Important path\n",
    "from PyQt4 import QtCore, QtGui\n",
    "app = QtGui.QApplication(sys.argv)\n",
    "\n",
    "#path = os.path.dirname(os.path.abspath(__file__)) + '/'\n",
    "#in my case\n",
    "path = '/home/sofauser/workdir/MOR_test/'\n",
    "originalScene = path+\"disk_actuator.py\"\n",
    "outputDir = path+\"mor_output\"\n",
    "# if you haven't install PyQt the previous function won't work\n",
    "# As an alternative you can enter the absolute path to the conresponding files directly:\n",
    "# originalScene = /PathToMy/Original/Scene"
   ]
  },
  {
   "cell_type": "markdown",
   "metadata": {},
   "source": [
    "\n",
    "### 2.  The different reduction parameters <a name=\"Reduction Parameters\"></a>\n",
    "\n",
    "#### nodeToReduce <a name=\"nodesToReduce\"></a>\n",
    "- *ie : containing the SOFA path from the rootnode to the model you want to reduce\n",
    "        "
   ]
  },
  {
   "cell_type": "code",
   "execution_count": null,
   "metadata": {},
   "outputs": [],
   "source": [
    "#nodeToReduce_DIAMOND = '/modelNode'\n",
    "#nodeToReduce_STARFISH ='/model'\n",
    "nodeToReduce_DISK = '/disk'\n",
    "\n",
    "print(originalScene)\n",
    "print(outputDir)"
   ]
  },
  {
   "cell_type": "markdown",
   "metadata": {},
   "source": [
    "#### listObjToAnimate <a name=\"listObjToAnimate\"></a>\n",
    "   \n",
    "Contain a list of object from the class [ObjToAnimate](https://modelorderreduction.readthedocs.io/en/latest/_autosummary/_autosummary/_autosummary/mor.reduction.reduceModel.ObjToAnimate.html).\n",
    "        \n",
    "A ObjToAnimate will define an object to \"animate\" during the shaking.\n",
    "\n",
    "There are 3 main parameter to this object :\n",
    "- location : Path to obj/node we want to animate\n",
    "- animFct : the animation function we will use (here we use [defaultShaking](https://modelorderreduction.readthedocs.io/en/latest/_autosummary/_autosummary/mor.animation.defaultShaking.html))\n",
    "- all the argument that will be passed to the animFct we have chose\n",
    "        \n",
    "For example here we want to animate the node named \"nord\", but we won't specify the animFct so the default animation function will be used and be applied on the first default object it will find. The default function will need 3 additionnal parameters :\n",
    "- incrPeriod (float):\tPeriod between each increment\n",
    "- incr (float):    Value of each increment\n",
    "- rangeOfAction (float):\tUntil which value the data will increase\n",
    "            \n",
    "nord = ObjToAnimate(\"nord\", incr=5,incrPeriod=10,rangeOfAction=40)"
   ]
  },
  {
   "cell_type": "code",
   "execution_count": null,
   "metadata": {
    "code_folding": [],
    "scrolled": true
   },
   "outputs": [],
   "source": [
    "# animation parameters\n",
    "\n",
    "### CABLE-DRIVEN PARALLEL ROBOT PARAMETERS\n",
    "nord = ObjToAnimate(\"modelNode/nord\", incr=5,incrPeriod=10,rangeOfAction=40)\n",
    "sud = ObjToAnimate(\"modelNode/sud\", incr=5,incrPeriod=10,rangeOfAction=40)\n",
    "est = ObjToAnimate(\"modelNode/est\", incr=5,incrPeriod=10,rangeOfAction=40)\n",
    "ouest = ObjToAnimate(\"modelNode/ouest\", incr=5,incrPeriod=10,rangeOfAction=40)\n",
    "listObjToAnimate_DIAMOND = [nord,ouest,sud,est]\n",
    "\n",
    "### MULTIGAIT SOFT ROBOT PARAMETERS\n",
    "centerCavity = ObjToAnimate(\"model/centerCavity\", incr=350,incrPeriod=2,rangeOfAction=3500)\n",
    "rearLeftCavity = ObjToAnimate(\"model/rearLeftCavity\", incr=200,incrPeriod=2,rangeOfAction=2000)\n",
    "rearRightCavity = ObjToAnimate(\"model/rearRightCavity\", incr=200,incrPeriod=2,rangeOfAction=2000)\n",
    "frontLeftCavity = ObjToAnimate(\"model/frontLeftCavity\", incr=200,incrPeriod=2,rangeOfAction=2000)\n",
    "frontRightCavity = ObjToAnimate(\"model/frontRightCavity\", incr=200,incrPeriod=2,rangeOfAction=2000)\n",
    "listObjToAnimate_STARFISH = [centerCavity,rearLeftCavity,rearRightCavity,frontLeftCavity,frontRightCavity]\n",
    "\n",
    "\n",
    "### DISK ACTUATOR\n",
    "\n",
    "disk = ObjToAnimate( \"disk/cavity\",incr=0.001,incrPeriod=2,rangeOfAction=0.025)\n",
    "listObjToAnimate_DISK = [disk]"
   ]
  },
  {
   "cell_type": "markdown",
   "metadata": {},
   "source": [
    "#### Modes parameters <a name=\"Modes parameters\"></a>\n",
    "\n",
    "- addRigidBodyModes (Defines if our reduce model will be able to translate along the x, y , z directions)\n",
    "- tolModes ( Defines the level of accuracy we want to select the reduced basis modes)  "
   ]
  },
  {
   "cell_type": "code",
   "execution_count": null,
   "metadata": {},
   "outputs": [],
   "source": [
    "addRigidBodyModes_DIAMOND = [0,0,0]\n",
    "addRigidBodyModes_STARFISH = [1,1,1]\n",
    "addRigidBodyModes_DISK = [0,0,0]\n",
    "\n",
    "tolModes = 0.001"
   ]
  },
  {
   "cell_type": "markdown",
   "metadata": {},
   "source": [
    "- tolGIE\n",
    "    - *tolerance used in the greedy algorithm selecting the reduced integration domain(RID). Values are between 0 and 0.1 . High values will lead to RIDs with very few elements, while values approaching 0 will lead to large RIDs.  Typically set to 0.05.* "
   ]
  },
  {
   "cell_type": "code",
   "execution_count": null,
   "metadata": {},
   "outputs": [],
   "source": [
    "# Tolerance\n",
    "tolGIE =  0.05"
   ]
  },
  {
   "cell_type": "markdown",
   "metadata": {},
   "source": [
    "### 3. Optional parameters <a name=\"Optionnal Parameters\"></a>"
   ]
  },
  {
   "cell_type": "code",
   "execution_count": null,
   "metadata": {},
   "outputs": [],
   "source": [
    "# Optionnal\n",
    "verbose = False\n",
    "nbrCPU = 4\n",
    "packageName = 'test'\n",
    "addToLib = False\n",
    "import time\n",
    "start = time.time()\n",
    "print(start)"
   ]
  },
  {
   "cell_type": "markdown",
   "metadata": {},
   "source": [
    "We can now execute one of the reduction we choose with all these parameters"
   ]
  },
  {
   "cell_type": "markdown",
   "metadata": {},
   "source": [
    "## Execution <a name=\"Execution\"></a>\n",
    "***\n"
   ]
  },
  {
   "cell_type": "markdown",
   "metadata": {},
   "source": [
    "### Initialization\n",
    "\n",
    "The execution is done with an object from the class *[ReduceModel](https://modelorderreduction.readthedocs.io/en/latest/_autosummary/_autosummary/_autosummary/mor.reduction.reduceModel.ReduceModel.html#mor.reduction.reduceModel.ReduceModel)*.\n",
    "we initialize it with all the previous argument either for the Diamond or Starfish example"
   ]
  },
  {
   "cell_type": "code",
   "execution_count": null,
   "metadata": {
    "code_folding": []
   },
   "outputs": [],
   "source": [
    "# Initialization of our script\n",
    "\n",
    "\n",
    "nodeToReduce = nodeToReduce_DISK \n",
    "listObjToAnimate = listObjToAnimate_DISK\n",
    "addRigidBodyModes = addRigidBodyModes_DISK\n",
    "\n",
    "reduceMyModel = ReduceModel(    originalScene,  \n",
    "                                nodeToReduce,\n",
    "                                listObjToAnimate,\n",
    "                                tolModes,tolGIE,\n",
    "                                outputDir,\n",
    "                                packageName = packageName,\n",
    "                                addToLib = addToLib,\n",
    "                                verbose = verbose,\n",
    "                                addRigidBodyModes = addRigidBodyModes)"
   ]
  },
  {
   "cell_type": "markdown",
   "metadata": {},
   "source": [
    "We can finally perform the actual reduction. here is a schematic to resume the differents steps we will perform : \n",
    "\n",
    "![MOR Process Schematic](../doc/images/MOR_plugin_execution_v2.png \"MOR Process Schematic\")\n",
    "\n",
    "### Phase 1 <a name=\"Phase 1\"></a> \n",
    "*[doc](https://modelorderreduction.readthedocs.io/en/latest/_autosummary/_autosummary/_autosummary/mor.reduction.reduceModel.ReduceModel.html#mor.reduction.reduceModel.ReduceModel.phase1)*\n",
    "\n",
    "We modify the original scene to do the first step of MOR :   \n",
    "- We add animation to each actuators we want for our model \n",
    "- And add a writeState componant to save the shaking resulting states  "
   ]
  },
  {
   "cell_type": "code",
   "execution_count": null,
   "metadata": {
    "scrolled": true
   },
   "outputs": [],
   "source": [
    "reduceMyModel.phase1()"
   ]
  },
  {
   "cell_type": "markdown",
   "metadata": {},
   "source": [
    "### Phase 2 <a name=\"Phase 2\"></a>\n",
    "\n",
    "*[doc](https://modelorderreduction.readthedocs.io/en/latest/_autosummary/_autosummary/_autosummary/mor.reduction.reduceModel.ReduceModel.html#mor.reduction.reduceModel.ReduceModel.phase2)*\n",
    "\n",
    "With the previous result we combine all the generated state files into one to be able to extract from it the different mode"
   ]
  },
  {
   "cell_type": "code",
   "execution_count": null,
   "metadata": {
    "scrolled": false
   },
   "outputs": [],
   "source": [
    "reduceMyModel.phase2()"
   ]
  },
  {
   "cell_type": "code",
   "execution_count": null,
   "metadata": {
    "code_folding": [
     0
    ],
    "scrolled": true
   },
   "outputs": [],
   "source": [
    "# Plot result\n",
    "import plotly.graph_objects as go\n",
    "from plotly.offline import init_notebook_mode, iplot\n",
    "init_notebook_mode()\n",
    "with open(reduceMyModel.packageBuilder.debugDir+'Sdata.txt') as f:\n",
    "    content = f.readlines()\n",
    "    \n",
    "content = [float(x.strip()) for x in content]\n",
    "data = [go.Bar(x=range(1, len(content)+1),\n",
    "            y=content)]\n",
    "\n",
    "iplot(data, filename='jupyter/basic_bar')"
   ]
  },
  {
   "cell_type": "code",
   "execution_count": null,
   "metadata": {},
   "outputs": [],
   "source": [
    "print(\"Maximum number of Modes : \")\n",
    "reduceMyModel.reductionParam.nbrOfModes"
   ]
  },
  {
   "cell_type": "markdown",
   "metadata": {},
   "source": [
    "### Phase 3 <a name=\"Phase 3\"></a>\n",
    "\n",
    "*[doc](https://modelorderreduction.readthedocs.io/en/latest/_autosummary/_autosummary/_autosummary/mor.reduction.reduceModel.ReduceModel.html#mor.reduction.reduceModel.ReduceModel.phase3)*\n",
    "\n",
    "We launch again a set of sofa scene with the sofa launcher with the same previous arguments but with a different scene\n",
    "\n",
    "This scene take the previous one and add the model order reduction component:\n",
    "- HyperReducedFEMForceField\n",
    "- MechanicalMatrixMapperMOR\n",
    "- ModelOrderReductionMapping and produce an Hyper Reduced description of the model"
   ]
  },
  {
   "cell_type": "code",
   "execution_count": null,
   "metadata": {},
   "outputs": [],
   "source": [
    "reduceMyModel.phase3()"
   ]
  },
  {
   "cell_type": "markdown",
   "metadata": {},
   "source": [
    "### Phase 4 <a name=\"Phase 4\"></a>\n",
    "\n",
    "*[doc](https://modelorderreduction.readthedocs.io/en/latest/_autosummary/_autosummary/_autosummary/mor.reduction.reduceModel.ReduceModel.html#mor.reduction.reduceModel.ReduceModel.phase4)*\n",
    "\n",
    "Final step : we gather again all the results of the previous scenes into one and then compute the RID and Weigts with it. Additionnally we also compute the Active Nodes\n"
   ]
  },
  {
   "cell_type": "code",
   "execution_count": null,
   "metadata": {
    "scrolled": true
   },
   "outputs": [],
   "source": [
    "reducedScene = reduceMyModel.phase4()"
   ]
  },
  {
   "cell_type": "markdown",
   "metadata": {},
   "source": [
    "End of example you can now go test the results in the folder you have designed at the beginning of this tutorial\n",
    "\n",
    "## To go Further <a name=\"To go Further\"></a>\n",
    "***\n",
    "\n",
    "Links to additional information about the plugin:\n",
    "\n",
    "Publication in IEEE Transactions On Robotics: **https://hal.inria.fr/hal-01834483**\n",
    "\n",
    "Plugin website: **https://project.inria.fr/modelorderreduction/**\n",
    "\n",
    "Plugin doc : **https://modelorderreduction.readthedocs.io/en/latest/index.html**\n",
    "\n"
   ]
  },
  {
   "cell_type": "code",
   "execution_count": null,
   "metadata": {},
   "outputs": [],
   "source": [
    "end = time.time()\n",
    "print(start, end, end-start)"
   ]
  },
  {
   "cell_type": "code",
   "execution_count": null,
   "metadata": {},
   "outputs": [],
   "source": []
  },
  {
   "cell_type": "code",
   "execution_count": null,
   "metadata": {},
   "outputs": [],
   "source": []
  },
  {
   "cell_type": "code",
   "execution_count": null,
   "metadata": {},
   "outputs": [],
   "source": []
  },
  {
   "cell_type": "code",
   "execution_count": null,
   "metadata": {},
   "outputs": [],
   "source": []
  },
  {
   "cell_type": "code",
   "execution_count": null,
   "metadata": {},
   "outputs": [],
   "source": []
  },
  {
   "cell_type": "code",
   "execution_count": null,
   "metadata": {},
   "outputs": [],
   "source": []
  },
  {
   "cell_type": "code",
   "execution_count": null,
   "metadata": {},
   "outputs": [],
   "source": []
  },
  {
   "cell_type": "code",
   "execution_count": null,
   "metadata": {},
   "outputs": [],
   "source": []
  },
  {
   "cell_type": "code",
   "execution_count": null,
   "metadata": {},
   "outputs": [],
   "source": []
  },
  {
   "cell_type": "code",
   "execution_count": null,
   "metadata": {},
   "outputs": [],
   "source": []
  },
  {
   "cell_type": "code",
   "execution_count": null,
   "metadata": {},
   "outputs": [],
   "source": []
  }
 ],
 "metadata": {
  "kernelspec": {
   "display_name": "Python 2",
   "language": "python",
   "name": "python2"
  },
  "language_info": {
   "codemirror_mode": {
    "name": "ipython",
    "version": 2
   },
   "file_extension": ".py",
   "mimetype": "text/x-python",
   "name": "python",
   "nbconvert_exporter": "python",
   "pygments_lexer": "ipython2",
   "version": "2.7.17"
  }
 },
 "nbformat": 4,
 "nbformat_minor": 2
}
